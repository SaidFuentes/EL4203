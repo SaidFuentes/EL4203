{
  "nbformat": 4,
  "nbformat_minor": 0,
  "metadata": {
    "colab": {
      "provenance": [],
      "collapsed_sections": [
        "Ht1BDy_EK1z8",
        "L4O0JTT17NSK",
        "zXMkHvqhHXsK",
        "-UNo1hetJu2a",
        "NXQKbJxYSp2d",
        "mBU1u4pfltSK"
      ]
    },
    "kernelspec": {
      "name": "python3",
      "display_name": "Python 3"
    },
    "language_info": {
      "name": "python"
    }
  },
  "cells": [
    {
      "cell_type": "markdown",
      "source": [
        "# Tarea 1: Programación Avanzada\n",
        "Nombre: Said Fuentes Calabrano"
      ],
      "metadata": {
        "id": "aBiC4qjNr9MH"
      }
    },
    {
      "cell_type": "markdown",
      "source": [
        "## Preguntas teóricas"
      ],
      "metadata": {
        "id": "Ht1BDy_EK1z8"
      }
    },
    {
      "cell_type": "markdown",
      "source": [
        "### 1) ¿Qué es un paradigma de programación?"
      ],
      "metadata": {
        "id": "Bo5FYI0qLwzE"
      }
    },
    {
      "cell_type": "markdown",
      "source": [
        "Un paradigma de programación es una forma de programar. Que se rige por una perspectiva específica para abordar problemas de programación. Cada paradigma ofrece una alternativa para el manejo de datos convenientemente en distintos tipos de problemas. Por ejemplo, el paradigma orientado a objetos estructura el código a través de \"objetos\" y clases que almacenan atributos y métodos. Finalmente, dependiendo de las características del problema, un paradigma de programación se hace más recomendable que otro."
      ],
      "metadata": {
        "id": "4E_2hrcTUL1b"
      }
    },
    {
      "cell_type": "markdown",
      "source": [
        "### 2) ¿En qué se basa la programación orientada a objetos?"
      ],
      "metadata": {
        "id": "m9dgEQCoL27L"
      }
    },
    {
      "cell_type": "markdown",
      "source": [
        "Como bien se decía anteriormente, la programación orientada a objetos utiliza clases e instancias para representar objetos. Los cuales se dotan de atributos y métodos para cumplir su objetivo."
      ],
      "metadata": {
        "id": "KdZsI-xGcEMl"
      }
    },
    {
      "cell_type": "markdown",
      "source": [
        "### 3) ¿Cuál es la diferencia entre recursividad e iteración, y cómo se relaciona esto con la notación big O?"
      ],
      "metadata": {
        "id": "Nb3pAaKJL8Kw"
      }
    },
    {
      "cell_type": "markdown",
      "source": [
        "La recursividad es una técnica para resolver problemas que pueden dividirse en subproblemas similares. Haciendo que determinada función haga llamadas a si misma reiteradas veces, hasta que llegue a un caso base que se pueda calcular sin depender de llamadas anteriores. Su complejidad en términos de notación big O, depende de la profundidad de la recursión y de las instrucciones que ejecute en cada una.\n",
        "\n",
        "Por su parte, la iteración es un técnica que utiliza bucles para ejecutar lineas de código hasta que se cumpla una condición particular. Por ejemplo, recorrer listas o calculos repetitivos. Su complejidad en términos de notación big O, depende del número de iteraciones y de las instrucciones que ejecute en cada una."
      ],
      "metadata": {
        "id": "sHMOD-jteJC3"
      }
    },
    {
      "cell_type": "markdown",
      "source": [
        "### 4) explicar la diferencia de rendimiento entre 𝑂(1) y 𝑂(𝑛)\n"
      ],
      "metadata": {
        "id": "ctbQ7xiBMYXB"
      }
    },
    {
      "cell_type": "markdown",
      "source": [
        "O(1) tiene tiempo de ejecución constante, independientemente de cuántos elementos se procesen, o de las entradas del programa. Un ejemplo de este rendimiento, se da cuando se realizan operaciones algebraicas entre dos números.\n",
        "\n",
        "En cambio, O(n) tiene un tiempo de ejecución que aumenta linealmente, conforme al tamaño de la entrada. Un ejemplo de este rendimiento, se da cuando se recorre una lista de largo n."
      ],
      "metadata": {
        "id": "TP21xzsVkIwa"
      }
    },
    {
      "cell_type": "markdown",
      "source": [
        "### 5) ¿Cómo se calcula el orden en un programa que funciona por etapas?\n"
      ],
      "metadata": {
        "id": "atC3YvWwMf4J"
      }
    },
    {
      "cell_type": "markdown",
      "source": [
        "Dado que el problema funciona por etapas, se calcular los rendimientos de cada una por separado. Luego, el rendimiento total del programa será la suma de los rendimientos de cada etapa. Finalmente, el rendimiento se reduce al térmnino dominante lo encontrado en el paso anterior; es decir, en el peor rendimiento entre todas las etapas."
      ],
      "metadata": {
        "id": "n4n4LL_SofXS"
      }
    },
    {
      "cell_type": "markdown",
      "source": [
        "### 6) ¿Cómo se puede determinar la complejidad temporal de un algoritmo recursivo?\n"
      ],
      "metadata": {
        "id": "IinbSgEJMlie"
      }
    },
    {
      "cell_type": "markdown",
      "source": [
        "Dada la naturaleza recursiva del problema, se establece una ecuación de recurrencia que determina el tiempo de ejecución que demora. La recurrencia tiene la siguiente forma:\n",
        "\n",
        "$$\n",
        "T(n)=pT(\\frac{n}{q})+Cn^r\n",
        "$$\n",
        "\n",
        "Luego, se utiliza el teorema maestro. El cual establece que la solución a la ecuación de recurrencia anterior tiene solución:\n",
        "\n",
        "$$\n",
        "T(n) =\n",
        "\\begin{cases}\n",
        "\\Theta(n^r) & \\text{ si } p<q^r\\\\\n",
        "\\Theta(n^r \\log{n}) & \\text{ si } p=q^r\\\\\n",
        "\\Theta(n^{\\log_q{p}}) & \\text{ si } p>q^r\n",
        "\\end{cases}\n",
        "$$"
      ],
      "metadata": {
        "id": "eoM0hkqSqHAo"
      }
    },
    {
      "cell_type": "markdown",
      "source": [
        "## Programe una clase que sea capaz de calcular la cantidad posible de caminos entre 𝐴 y 𝐵, en al menos 2 formas distintas."
      ],
      "metadata": {
        "id": "L4O0JTT17NSK"
      }
    },
    {
      "cell_type": "code",
      "execution_count": null,
      "metadata": {
        "id": "bOL_lOD6Wevp"
      },
      "outputs": [],
      "source": [
        "import numpy as np\n",
        "from time import perf_counter\n",
        "import matplotlib.pyplot as plt"
      ]
    },
    {
      "cell_type": "markdown",
      "source": [
        "Nos damos cuenta que para llegar a determinada posisción, la cantidad de caminos posibles es igual a la suma de la cantidad de caminos para llegar a la celda de arriba y la de la izquierda. Por lo tanto, se pueden establecer soluciones iterativas y recursivas.\n",
        "\n",
        "En efecto,"
      ],
      "metadata": {
        "id": "1fBTL9c87uTY"
      }
    },
    {
      "cell_type": "code",
      "source": [
        "class PCB:\n",
        "\n",
        "  # Al inicializar la clase, se crea una matriz de nxm que representara la grilla\n",
        "  def __init__(self,n,m):\n",
        "    self.matriz = np.zeros((n,m))\n",
        "\n",
        "  # metodo 1: solución iterativa\n",
        "  def iterativo(self):\n",
        "    for i in range(len(self.matriz)):\n",
        "      for j in range(len(self.matriz[0])):\n",
        "        if (i == 0) or (j == 0):\n",
        "          self.matriz[i][j] = 1 # fila y columna 1 tiene solo un camino posible\n",
        "\n",
        "        else:\n",
        "          self.matriz[i][j] = self.matriz[i-1][j] + self.matriz[i][j-1]\n",
        "\n",
        "    return self.matriz[len(self.matriz)-1][len(self.matriz[0])-1]\n",
        "\n",
        "  # metodo 2: solucion recursiva\n",
        "  def recursivo(self,i,j):\n",
        "    n = len(self.matriz)\n",
        "    m = len(self.matriz[0])\n",
        "\n",
        "    # caso base: se ha llegado a la posicion de interes (punto B)\n",
        "    if (i == n-1) and (j == m - 1):\n",
        "      return 1\n",
        "\n",
        "    # caso base: posiciones que exceden las dimensiones de la grilla\n",
        "    if (i >= n) or (j >= m):\n",
        "      return 0\n",
        "\n",
        "    else:\n",
        "      return self.recursivo(i+1,j) + self.recursivo(i,j+1)"
      ],
      "metadata": {
        "id": "ZNf62o3Yma-n"
      },
      "execution_count": null,
      "outputs": []
    },
    {
      "cell_type": "code",
      "source": [
        "# pruebas\n",
        "m1 = PCB(3,3)\n",
        "print(m1.iterativo())\n",
        "print(m1.recursivo(0,0)) # por construccion se debe inicializar el recorrido en el punto inicial (i = 0 y j = 0)"
      ],
      "metadata": {
        "colab": {
          "base_uri": "https://localhost:8080/"
        },
        "id": "OXAGEJ3P7M5o",
        "outputId": "0b874991-c3cb-4b17-efec-7496dbe063b0"
      },
      "execution_count": null,
      "outputs": [
        {
          "output_type": "stream",
          "name": "stdout",
          "text": [
            "6.0\n",
            "6\n"
          ]
        }
      ]
    },
    {
      "cell_type": "markdown",
      "source": [
        "## 1) Primero, puede crear un nuevo método por cada solución programada, que entregue el tiempo de ejecución de dicha solución para un input determinado."
      ],
      "metadata": {
        "id": "zXMkHvqhHXsK"
      }
    },
    {
      "cell_type": "code",
      "source": [
        "class PCB:\n",
        "  def __init__(self,n,m):\n",
        "    self.matriz = np.zeros((n,m))\n",
        "\n",
        "  # metodo 1: solución iterativa\n",
        "  def iterativo(self):\n",
        "    for i in range(len(self.matriz)):\n",
        "      for j in range(len(self.matriz[0])):\n",
        "        if (i == 0) or (j == 0):\n",
        "          self.matriz[i][j] = 1\n",
        "\n",
        "        else:\n",
        "          self.matriz[i][j] = self.matriz[i-1][j] + self.matriz[i][j-1]\n",
        "\n",
        "    return self.matriz[len(self.matriz)-1][len(self.matriz[0])-1]\n",
        "\n",
        "  # metodo contador de la solucion iterativa:\n",
        "  def t_iterativo(self):\n",
        "    tiempo_inicio = perf_counter()\n",
        "    self.iterativo()\n",
        "\n",
        "    tiempo_total = perf_counter() - tiempo_inicio\n",
        "    return tiempo_total\n",
        "\n",
        "\n",
        "  # metodo 2: solucion recursiva\n",
        "  def recursivo(self,i,j):\n",
        "    n = len(self.matriz)\n",
        "    m = len(self.matriz[0])\n",
        "\n",
        "    # caso base\n",
        "    if (i == n-1) and (j == m - 1):\n",
        "      return 1\n",
        "\n",
        "    if (i >= n) or (j >= m):\n",
        "      return 0\n",
        "\n",
        "    else:\n",
        "      return self.recursivo(i+1,j) + self.recursivo(i,j+1)\n",
        "\n",
        "  # metodo contador de la solucion recursiva\n",
        "  def t_recursivo(self,i,j):\n",
        "    tiempo_inicio = perf_counter()\n",
        "    self.recursivo(i,j)\n",
        "\n",
        "    tiempo_total = perf_counter() - tiempo_inicio\n",
        "    return tiempo_total\n"
      ],
      "metadata": {
        "id": "AktL6QzrHZlI"
      },
      "execution_count": null,
      "outputs": []
    },
    {
      "cell_type": "code",
      "source": [
        "# prueba\n",
        "m1 = PCB(3,3)\n",
        "print(m1.t_iterativo())\n",
        "print(m1.t_recursivo(0,0))"
      ],
      "metadata": {
        "colab": {
          "base_uri": "https://localhost:8080/"
        },
        "id": "jzgPPLwgIaRf",
        "outputId": "70026db0-5273-41a4-a4a9-f82dca574812"
      },
      "execution_count": null,
      "outputs": [
        {
          "output_type": "stream",
          "name": "stdout",
          "text": [
            "3.6248999094823375e-05\n",
            "3.797299723373726e-05\n"
          ]
        }
      ]
    },
    {
      "cell_type": "markdown",
      "source": [
        "## 2)  ahora puede programar un único método que recibe una función, y puede calcular el tiempo de ejecución de dicha función."
      ],
      "metadata": {
        "id": "-UNo1hetJu2a"
      }
    },
    {
      "cell_type": "code",
      "source": [
        "# funcion que calcula tiempo\n",
        "def t(func,k):\n",
        "  tiempo_inicio = perf_counter()\n",
        "  resultado = func(k)\n",
        "  tiempo_total = perf_counter() - tiempo_inicio\n",
        "  return tiempo_total\n",
        "\n",
        "class PCB:\n",
        "  def __init__(self,n,m):\n",
        "    self.matriz = np.zeros((n,m))\n",
        "\n",
        "  # metodo 1: solución iterativa\n",
        "  def iterativo(self):\n",
        "    for i in range(len(self.matriz)):\n",
        "      for j in range(len(self.matriz[0])):\n",
        "        if (i == 0) or (j == 0):\n",
        "          self.matriz[i][j] = 1\n",
        "\n",
        "        else:\n",
        "          self.matriz[i][j] = self.matriz[i-1][j] + self.matriz[i][j-1]\n",
        "\n",
        "    return self.matriz[len(self.matriz)-1][len(self.matriz[0])-1]\n",
        "\n",
        "  # metodo 2: solucion recursiva\n",
        "  def recursivo(self,i,j):\n",
        "    n = len(self.matriz)\n",
        "    m = len(self.matriz[0])\n",
        "\n",
        "    # caso base\n",
        "    if (i == n-1) and (j == m - 1):\n",
        "      return 1\n",
        "\n",
        "    if (i >= n) or (j >= m):\n",
        "      return 0\n",
        "\n",
        "    else:\n",
        "      return self.recursivo(i+1,j) + self.recursivo(i,j+1)\n",
        "\n",
        "  # metodo que permite seleccionar el tipo de solucion: iterativa o recursiva\n",
        "  def elegir_metodo(self,k):\n",
        "    if k == 0:\n",
        "      return self.iterativo()\n",
        "\n",
        "    else:\n",
        "      return self.recursivo(0,0)\n",
        "\n",
        "  # metodo tiempo de ejecucion único\n",
        "  # ocupa la funcion t, que calcula el tiempo asociado a ejecutar alguna de las soluciones\n",
        "  def tiempo(self,k):\n",
        "    return t(self.elegir_metodo,k)"
      ],
      "metadata": {
        "id": "kORAh7gGMXp-"
      },
      "execution_count": null,
      "outputs": []
    },
    {
      "cell_type": "code",
      "source": [
        "# prueba\n",
        "print(m1.tiempo(0)) # iterativo\n",
        "print(m1.tiempo(1)) # recursivo"
      ],
      "metadata": {
        "colab": {
          "base_uri": "https://localhost:8080/"
        },
        "id": "or7BUSFfNiHH",
        "outputId": "e8caddf4-993a-4d78-ec1a-39305887c111"
      },
      "execution_count": null,
      "outputs": [
        {
          "output_type": "stream",
          "name": "stdout",
          "text": [
            "4.03220001317095e-05\n",
            "5.51410012121778e-05\n"
          ]
        }
      ]
    },
    {
      "cell_type": "markdown",
      "source": [
        "## 4) Programe un decorador que permita almacenar de alguna forma el tiempo de ejecución de una función, y utilícelo para decorar un nuevo método en su clase. Este nuevo método debe ser capaz de cambiar la forma en que calcula la respuesta entre las distintas soluciones que programó en un principio."
      ],
      "metadata": {
        "id": "NXQKbJxYSp2d"
      }
    },
    {
      "cell_type": "code",
      "source": [
        "class PCB:\n",
        "  def __init__(self,n,m):\n",
        "    self.matriz = np.zeros((n,m))\n",
        "    self.t_sol1 = 0\n",
        "    self.t_sol2 = 0\n",
        "\n",
        "  # metodo 1: solución iterativa\n",
        "  def iterativo(self):\n",
        "    for i in range(len(self.matriz)):\n",
        "      for j in range(len(self.matriz[0])):\n",
        "        if (i == 0) or (j == 0):\n",
        "          self.matriz[i][j] = 1\n",
        "\n",
        "        else:\n",
        "          self.matriz[i][j] = self.matriz[i-1][j] + self.matriz[i][j-1]\n",
        "\n",
        "    return self.matriz[len(self.matriz)-1][len(self.matriz[0])-1]\n",
        "\n",
        "  # metodo 2: solucion recursiva\n",
        "  def recursivo(self,i,j):\n",
        "    n = len(self.matriz)\n",
        "    m = len(self.matriz[0])\n",
        "\n",
        "    # caso base\n",
        "    if (i == n-1) and (j == m - 1):\n",
        "      return 1\n",
        "\n",
        "    if (i >= n) or (j >= m):\n",
        "      return 0\n",
        "\n",
        "    else:\n",
        "      return self.recursivo(i+1,j) + self.recursivo(i,j+1)\n",
        "\n",
        "  # funcion que recibe una funcion. calcula el tiempo asociado a ejecutar alguna de\n",
        "  # las soluciones, además, guarda los tiempos en las caracteristicas de la clase t_sol1 y t_sol2\n",
        "  def t(func):\n",
        "    def nueva_func(self,k):\n",
        "      tiempo_inicio = perf_counter()\n",
        "      func(self,k)\n",
        "      tiempo_total = perf_counter() - tiempo_inicio\n",
        "\n",
        "      if k == 0:\n",
        "        self.t_sol1 = tiempo_total\n",
        "\n",
        "      else:\n",
        "        self.t_sol2 = tiempo_total\n",
        "\n",
        "      return tiempo_total\n",
        "\n",
        "    return nueva_func\n",
        "\n",
        "  # decorador\n",
        "  @t\n",
        "  def elegir_metodo(self,k): # elige cual solucion utilizar\n",
        "    if k == 0:\n",
        "      return self.iterativo()\n",
        "\n",
        "    else:\n",
        "      return self.recursivo(0,0)"
      ],
      "metadata": {
        "id": "2c1koutlSzgN"
      },
      "execution_count": null,
      "outputs": []
    },
    {
      "cell_type": "code",
      "source": [
        "# prueba\n",
        "m2 = PCB(4,3)\n",
        "print(m2.elegir_metodo(2)) # iterativo\n",
        "print(m2.elegir_metodo(1)) # recursivo"
      ],
      "metadata": {
        "colab": {
          "base_uri": "https://localhost:8080/"
        },
        "id": "Qp8IJaSQb0Vt",
        "outputId": "ed98e62e-923b-4e78-d42f-6eb99add634f"
      },
      "execution_count": null,
      "outputs": [
        {
          "output_type": "stream",
          "name": "stdout",
          "text": [
            "6.167999890749343e-05\n",
            "6.52189992251806e-05\n"
          ]
        }
      ]
    },
    {
      "cell_type": "markdown",
      "source": [
        "## Finalmente, escriba un programa capaz de: generar gráficos con el tiempo de ejecución de sus soluciones, o guardar estos gráficos en formato svg si decide entregar un proyecto de python en lugar de un notebook. Puede entregar uno o varios gráficos que muestren el tiempo de ejecución de todas sus soluciones para varios inputs distintos. El o los gráficos deben contener un título, leyenda, y tener cada eje rotulado."
      ],
      "metadata": {
        "id": "mBU1u4pfltSK"
      }
    },
    {
      "cell_type": "code",
      "source": [
        "N = [x + 1 for x in range(15)] # vector que representa los n\n",
        "t_iterativo = [] # lista donde se almacenan los tiempos de las soluciones iterativas\n",
        "t_recursivo = [] # lista donde se almacenan los tiempos de las soluciones recursivas"
      ],
      "metadata": {
        "id": "8f3UGU1sjUeq"
      },
      "execution_count": null,
      "outputs": []
    },
    {
      "cell_type": "code",
      "source": [
        "# generar las soluciones para casos de grillas de nxn, con n={1,2,3,...,15}\n",
        "for k in N:\n",
        "  r = PCB(k,k)\n",
        "  r.elegir_metodo(0) # soluciones iterativas\n",
        "  r.elegir_metodo(1) # soluciones recursivas\n",
        "\n",
        "  t_iterativo.append(r.t_sol1) # agregar tiempos iterativos a la lista\n",
        "  t_recursivo.append(r.t_sol2) # agregar tiempos recursivos a la lista"
      ],
      "metadata": {
        "id": "jovDzyIwmpRy"
      },
      "execution_count": null,
      "outputs": []
    },
    {
      "cell_type": "code",
      "source": [
        "# Grafico\n",
        "plt.figure(figsize=(10,6))\n",
        "plt.plot(t_iterativo, label=r\"Recursivo\", marker=\"o\")\n",
        "plt.plot(t_recursivo, label=r\"Iterativo\", marker=\"o\")\n",
        "\n",
        "plt.title(\"Tiempo de Ejecución de Método Iterativo v/s Recursivo\")\n",
        "plt.xlabel(\"n\")\n",
        "plt.ylabel(\"Tiempo (seg)\")\n",
        "plt.legend()\n",
        "plt.grid()\n",
        "plt.xticks(range(14),range(1,15))"
      ],
      "metadata": {
        "colab": {
          "base_uri": "https://localhost:8080/",
          "height": 1000
        },
        "id": "cLPQn1QfzPJa",
        "outputId": "5168d43e-7932-4213-a520-9df85eccee65"
      },
      "execution_count": null,
      "outputs": [
        {
          "output_type": "execute_result",
          "data": {
            "text/plain": [
              "([<matplotlib.axis.XTick at 0x7cd17150b700>,\n",
              "  <matplotlib.axis.XTick at 0x7cd171508280>,\n",
              "  <matplotlib.axis.XTick at 0x7cd17150bbe0>,\n",
              "  <matplotlib.axis.XTick at 0x7cd17118f460>,\n",
              "  <matplotlib.axis.XTick at 0x7cd17118ff10>,\n",
              "  <matplotlib.axis.XTick at 0x7cd17116c3d0>,\n",
              "  <matplotlib.axis.XTick at 0x7cd17116ce80>,\n",
              "  <matplotlib.axis.XTick at 0x7cd17116d930>,\n",
              "  <matplotlib.axis.XTick at 0x7cd17116e3e0>,\n",
              "  <matplotlib.axis.XTick at 0x7cd17116dc60>,\n",
              "  <matplotlib.axis.XTick at 0x7cd17116eda0>,\n",
              "  <matplotlib.axis.XTick at 0x7cd17116f850>,\n",
              "  <matplotlib.axis.XTick at 0x7cd1711e8340>,\n",
              "  <matplotlib.axis.XTick at 0x7cd1711e8df0>],\n",
              " [Text(0, 0, '1'),\n",
              "  Text(1, 0, '2'),\n",
              "  Text(2, 0, '3'),\n",
              "  Text(3, 0, '4'),\n",
              "  Text(4, 0, '5'),\n",
              "  Text(5, 0, '6'),\n",
              "  Text(6, 0, '7'),\n",
              "  Text(7, 0, '8'),\n",
              "  Text(8, 0, '9'),\n",
              "  Text(9, 0, '10'),\n",
              "  Text(10, 0, '11'),\n",
              "  Text(11, 0, '12'),\n",
              "  Text(12, 0, '13'),\n",
              "  Text(13, 0, '14')])"
            ]
          },
          "metadata": {},
          "execution_count": 246
        },
        {
          "output_type": "display_data",
          "data": {
            "text/plain": [
              "<Figure size 1000x600 with 1 Axes>"
            ],
            "image/png": "[encoded data removed]"
          },
          "metadata": {}
        }
      ]
    },
    {
      "cell_type": "markdown",
      "source": [
        "Es importante destacar que, a medida que la grilla se hace más grande, el tiempo de las soluciones recursivas es mayor (comportamiento exponencial). Lo cual es considerablemente menos eficiente que el caso iterativo (~lineal). Por lo tanto, la solucion iterativo es recomendable para resolver este problema, a partir de grillas más grandes."
      ],
      "metadata": {
        "id": "qlKFVgtAD_y_"
      }
    }
  ]
}